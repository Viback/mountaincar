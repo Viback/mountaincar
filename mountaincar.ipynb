{
 "cells": [
  {
   "cell_type": "code",
   "execution_count": 1,
   "metadata": {},
   "outputs": [],
   "source": [
    "import numpy as np\n",
    "import gym\n",
    "import matplotlib.pyplot as plt"
   ]
  },
  {
   "cell_type": "code",
   "execution_count": 2,
   "metadata": {},
   "outputs": [
    {
     "name": "stdout",
     "output_type": "stream",
     "text": [
      "episode  1000 score  -669.0 epsilon 0.800000000000022\n",
      "episode  2000 score  -523.0 epsilon 0.600000000000044\n",
      "episode  3000 score  -240.0 epsilon 0.4000000000000661\n",
      "episode  4000 score  -215.0 epsilon 0.20000000000008117\n",
      "episode  5000 score  -149.0 epsilon 0.01\n",
      "episode  6000 score  -151.0 epsilon 0.01\n",
      "episode  7000 score  -144.0 epsilon 0.01\n",
      "episode  8000 score  -144.0 epsilon 0.01\n",
      "episode  9000 score  -145.0 epsilon 0.01\n"
     ]
    },
    {
     "data": {
      "image/png": "[encoded data removed]",
      "text/plain": [
       "<Figure size 432x288 with 1 Axes>"
      ]
     },
     "metadata": {
      "needs_background": "light"
     },
     "output_type": "display_data"
    }
   ],
   "source": [
    "#Create bins for the positions and velocities\n",
    "pos_space = np.linspace(-1.2, 0.6, 20)\n",
    "vel_space = np.linspace(-0.07, 0.07, 20)\n",
    "\n",
    "#Convert position and velocity to bins\n",
    "def get_state(observation):\n",
    "    pos, vel = observation\n",
    "    pos_bin = np.digitize(pos, pos_space)\n",
    "    vel_bin = np.digitize(vel, vel_space)\n",
    "    \n",
    "    return (pos_bin, vel_bin)\n",
    "\n",
    "#Get the best action from the Q-table\n",
    "def max_action(Q, state, actions=[0,1,2]):\n",
    "    #Find the best action from the values array\n",
    "    values = np.array([Q[state,a] for a in actions])\n",
    "    action = np.argmax(values)\n",
    "    return action\n",
    "\n",
    "\n",
    "if __name__ == '__main__':\n",
    "    env = gym.make('MountainCar-v0')\n",
    "    env._max_episode_steps = 1000\n",
    "    n_games = 10000\n",
    "    alpha = 0.1\n",
    "    gamma = 0.99\n",
    "    #Start with fully random action\n",
    "    eps = 1.0\n",
    "    \n",
    "    #Get all possible states for the Q-table\n",
    "    states = []\n",
    "    for pos in range(21):\n",
    "        for vel in range(21):\n",
    "            states.append((pos,vel))\n",
    "            \n",
    "    #Create Q-table        \n",
    "    Q = {}\n",
    "    for state in states:\n",
    "        for action in [0,1,2]:\n",
    "            Q[state, action] = 0\n",
    "    \n",
    "    score = 0\n",
    "    total_rewards = np.zeros(n_games)\n",
    "    \n",
    "    for i in range(n_games):\n",
    "        done = False\n",
    "        obs = env.reset()\n",
    "        state = get_state(obs)\n",
    "        if i % 1000 == 0 and i > 0:\n",
    "            print('episode ', i, 'score ', score, 'epsilon', eps)\n",
    "            env.render()\n",
    "        score = 0\n",
    "        \n",
    "        #Q-learning\n",
    "        while not done:\n",
    "            action = np.random.choice([0,1,2]) if np.random.random() < eps else max_action(Q,state)\n",
    "            obs_, reward, done, info = env.step(action)\n",
    "            state_ = get_state(obs_)\n",
    "            score += reward\n",
    "            action_ = max_action(Q, state_)\n",
    "            Q[state, action] = Q[state, action] + alpha * (reward + gamma * Q[state_, action_] - Q[state, action])\n",
    "            state = state_\n",
    "        total_rewards[i] = score\n",
    "        #gradually decrease epsilon to make more non-random choices that lead to higher reward.\n",
    "        eps = eps - 2/n_games if eps > 0.01 else 0.01\n",
    "        \n",
    "    mean_rewards = np.zeros(n_games)\n",
    "    for t in range(n_games):\n",
    "        mean_rewards[t] = np.mean(total_rewards[max(0, t-50):(t+1)])\n",
    "    plt.plot(mean_rewards)\n",
    "    plt.show()"
   ]
  },
  {
   "cell_type": "code",
   "execution_count": null,
   "metadata": {},
   "outputs": [],
   "source": []
  }
 ],
 "metadata": {
  "kernelspec": {
   "display_name": "Python 3",
   "language": "python",
   "name": "python3"
  },
  "language_info": {
   "codemirror_mode": {
    "name": "ipython",
    "version": 3
   },
   "file_extension": ".py",
   "mimetype": "text/x-python",
   "name": "python",
   "nbconvert_exporter": "python",
   "pygments_lexer": "ipython3",
   "version": "3.7.3"
  }
 },
 "nbformat": 4,
 "nbformat_minor": 2
}
